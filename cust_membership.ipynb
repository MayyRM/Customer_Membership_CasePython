{
 "cells": [
  {
   "cell_type": "markdown",
   "metadata": {},
   "source": [
    "# Case II : Customer Membership\n",
    "Pertemuan 13 - 14 Python - Sekolah Data - Pacmann Academy"
   ]
  },
  {
   "cell_type": "code",
   "execution_count": 6,
   "metadata": {},
   "outputs": [
    {
     "name": "stdout",
     "output_type": "stream",
     "text": [
      "Requirement already satisfied: tabulate in c:\\users\\lenovo\\appdata\\local\\programs\\python\\python311\\lib\\site-packages (0.9.0)\n",
      "Note: you may need to restart the kernel to use updated packages.\n"
     ]
    }
   ],
   "source": [
    "pip install tabulate"
   ]
  },
  {
   "cell_type": "code",
   "execution_count": 7,
   "metadata": {},
   "outputs": [],
   "source": [
    "from tabulate import tabulate"
   ]
  },
  {
   "cell_type": "code",
   "execution_count": 8,
   "metadata": {},
   "outputs": [],
   "source": [
    "class Membership:\n",
    "    user_data = {\n",
    "        'Sumbul': 'Platinum', \n",
    "        'Ana': 'Gold', \n",
    "        'Cahya': 'Platinum'\n",
    "    }\n",
    "    membership = {\n",
    "        'Membership' : ['Platinum', 'Gold', 'Silver'],\n",
    "        'Discount' : ['15%', '10%', '8%'],\n",
    "        'Another Benefit': ['Benefit Silver + Gold + Voucher Liburan + Cashback max. 30%', 'Benefit Silver + Voucher Ojek Online ', 'Voucher Makanan'],\n",
    "    }\n",
    "\n",
    "    requirements = {\n",
    "        'Membership': ['Platinum', 'Gold', 'Silver'],\n",
    "        'Monthly Expense (juta)': [8, 6, 5],\n",
    "        'Monthly Income (juta)': [15, 10, 7]\n",
    "    }\n",
    "\n",
    "    def __init__(self, username):\n",
    "        self.username = username\n",
    "\n",
    "    def show_benefit(self):\n",
    "        print(\"Benefit Membership PacCommerce\")\n",
    "        print(\"\")\n",
    "        print(tabulate(self.membership, headers='keys', tablefmt='github', stralign=\"center\"))\n",
    "    \n",
    "    def show_requirements(self):\n",
    "        print(\"Requirements Membership PacCommerce\\n\")\n",
    "        print(tabulate(self.requirements, headers=\"keys\", tablefmt='github', stralign=\"center\"))\n",
    "    \n",
    "    def predict_membership(self):\n",
    "        pass"
   ]
  },
  {
   "cell_type": "code",
   "execution_count": 9,
   "metadata": {},
   "outputs": [],
   "source": [
    "daniel = Membership(username=\"Daniel\")\n",
    "aisyah = Membership(username=\"aisyah\")\n"
   ]
  },
  {
   "cell_type": "code",
   "execution_count": 10,
   "metadata": {},
   "outputs": [
    {
     "name": "stdout",
     "output_type": "stream",
     "text": [
      "Username user 1 : Daniel\n",
      "Username user 2 : aisyah\n"
     ]
    }
   ],
   "source": [
    "print(f\"Username user 1 : {daniel.username}\")\n",
    "print(f\"Username user 2 : {aisyah.username}\")"
   ]
  },
  {
   "cell_type": "code",
   "execution_count": 11,
   "metadata": {},
   "outputs": [
    {
     "data": {
      "text/plain": [
       "{'Membership': ['Platinum', 'Gold', 'Silver'],\n",
       " 'Discount': ['15%', '10%', '8%'],\n",
       " 'Another Benefit': ['Benefit Silver + Gold + Voucher Liburan + Cashback max. 30%',\n",
       "  'Benefit Silver + Voucher Ojek Online ',\n",
       "  'Voucher Makanan']}"
      ]
     },
     "execution_count": 11,
     "metadata": {},
     "output_type": "execute_result"
    }
   ],
   "source": [
    "daniel.membership"
   ]
  },
  {
   "cell_type": "code",
   "execution_count": 12,
   "metadata": {},
   "outputs": [
    {
     "name": "stdout",
     "output_type": "stream",
     "text": [
      "Benefit Membership PacCommerce\n",
      "\n",
      "|  Membership  |  Discount  |                       Another Benefit                       |\n",
      "|--------------|------------|-------------------------------------------------------------|\n",
      "|   Platinum   |    15%     | Benefit Silver + Gold + Voucher Liburan + Cashback max. 30% |\n",
      "|     Gold     |    10%     |            Benefit Silver + Voucher Ojek Online             |\n",
      "|    Silver    |     8%     |                       Voucher Makanan                       |\n"
     ]
    }
   ],
   "source": [
    "daniel.show_benefit()"
   ]
  },
  {
   "cell_type": "code",
   "execution_count": 13,
   "metadata": {},
   "outputs": [
    {
     "name": "stdout",
     "output_type": "stream",
     "text": [
      "Requirements Membership PacCommerce\n",
      "\n",
      "|  Membership  |   Monthly Expense (juta) |   Monthly Income (juta) |\n",
      "|--------------|--------------------------|-------------------------|\n",
      "|   Platinum   |                        8 |                      15 |\n",
      "|     Gold     |                        6 |                      10 |\n",
      "|    Silver    |                        5 |                       7 |\n"
     ]
    }
   ],
   "source": [
    "aisyah.show_requirements()"
   ]
  }
 ],
 "metadata": {
  "kernelspec": {
   "display_name": "Python 3",
   "language": "python",
   "name": "python3"
  },
  "language_info": {
   "codemirror_mode": {
    "name": "ipython",
    "version": 3
   },
   "file_extension": ".py",
   "mimetype": "text/x-python",
   "name": "python",
   "nbconvert_exporter": "python",
   "pygments_lexer": "ipython3",
   "version": "3.11.9"
  }
 },
 "nbformat": 4,
 "nbformat_minor": 2
}
