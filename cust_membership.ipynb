{
 "cells": [
  {
   "cell_type": "markdown",
   "metadata": {},
   "source": [
    "# Case II : Customer Membership\n",
    "Pertemuan 13 - 14 Python - Sekolah Data - Pacmann Academy"
   ]
  },
  {
   "cell_type": "code",
   "execution_count": 47,
   "metadata": {},
   "outputs": [
    {
     "name": "stdout",
     "output_type": "stream",
     "text": [
      "Requirement already satisfied: tabulate in c:\\users\\lenovo\\appdata\\local\\programs\\python\\python311\\lib\\site-packages (0.9.0)\n",
      "Note: you may need to restart the kernel to use updated packages.\n"
     ]
    }
   ],
   "source": [
    "pip install tabulate"
   ]
  },
  {
   "cell_type": "code",
   "execution_count": 48,
   "metadata": {},
   "outputs": [],
   "source": [
    "from tabulate import tabulate\n",
    "from math import sqrt"
   ]
  },
  {
   "cell_type": "code",
   "execution_count": 49,
   "metadata": {},
   "outputs": [
    {
     "data": {
      "text/plain": [
       "2.0"
      ]
     },
     "execution_count": 49,
     "metadata": {},
     "output_type": "execute_result"
    }
   ],
   "source": [
    "sqrt(4)"
   ]
  },
  {
   "cell_type": "code",
   "execution_count": 95,
   "metadata": {},
   "outputs": [],
   "source": [
    "class Membership:\n",
    "    user_data = {\n",
    "        'Sumbul': 'Platinum', \n",
    "        'Ana': 'Gold', \n",
    "        'Cahya': 'Platinum'\n",
    "    }\n",
    "    membership = {\n",
    "        'Membership' : ['Platinum', 'Gold', 'Silver'],\n",
    "        'Discount' : ['15%', '10%', '8%'],\n",
    "        'Another Benefit': ['Benefit Silver + Gold + Voucher Liburan + Cashback max. 30%', 'Benefit Silver + Voucher Ojek Online ', 'Voucher Makanan'],\n",
    "    }\n",
    "\n",
    "    requirements = {\n",
    "        'Membership': ['Platinum', 'Gold', 'Silver'],\n",
    "        'Monthly Expense (juta)': [8, 6, 5],\n",
    "        'Monthly Income (juta)': [15, 10, 7]\n",
    "    }\n",
    "\n",
    "    def __init__(self, username):\n",
    "        self.username = username\n",
    "\n",
    "    def show_benefit(self):\n",
    "        print(\"Benefit Membership PacCommerce\")\n",
    "        print(\"\")\n",
    "        print(tabulate(self.membership, headers='keys', tablefmt='github', stralign=\"center\"))\n",
    "    \n",
    "    def show_requirements(self):\n",
    "        print(\"Requirements Membership PacCommerce\\n\")\n",
    "        print(tabulate(self.requirements, headers=\"keys\", tablefmt='github', stralign=\"center\"))\n",
    "    \n",
    "    def predict_membership(self, monthly_expense, monthly_income):\n",
    "        r_list = []\n",
    "        for i in range(len(self.requirements['Membership'])):\n",
    "            r_user = sqrt (\n",
    "                (monthly_expense - self.requirements['Monthly Expense (juta)'][i])**2\n",
    "                 + (monthly_income - self.requirements['Monthly Income (juta)'][i])**2)\n",
    "            r_list.append(r_user)\n",
    "        membership_list = self.requirements['Membership']\n",
    "        r_dict = dict(zip(membership_list, r_list))\n",
    "        index_r_user = r_list.index(min(r_list))\n",
    "        membership_type = self.requirements['Membership'][index_r_user]\n",
    "        print(f'Hasil perhitungan Euclidean Distance dari user {self.username} adalah {r_dict}')\n",
    "        print(membership_type)\n",
    "\n",
    "        # #check if username in self.user_data, if not add\n",
    "        if self.username not in self.user_data:\n",
    "            self.user_data[self.username] = membership_type\n",
    "    \n",
    "    def show_membership(self):\n",
    "        if self.username in self.user_data:\n",
    "            return self.user_data[self.username]\n",
    "        \n",
    "    def calculate_price(self, list_harga_barang):\n",
    "        user_membership = self.show_membership()\n",
    "\n",
    "        index_membership = self.membership['Membership'].index(user_membership)\n",
    "\n",
    "        discount_str = self.membership['Discount'][index_membership]\n",
    "\n",
    "        discount = int(discount_str.rstrip('%')) / 100 \n",
    "\n",
    "        sum_list_harga_barang = sum(list_harga_barang)\n",
    "\n",
    "        final_price = sum_list_harga_barang - (sum_list_harga_barang * discount)\n",
    "        print(f'Final price : {final_price}')\n",
    "\n",
    "\n"
   ]
  },
  {
   "cell_type": "code",
   "execution_count": 96,
   "metadata": {},
   "outputs": [],
   "source": [
    "daniel = Membership(username=\"Daniel\")\n",
    "aisyah = Membership(username=\"Aisyah\")"
   ]
  },
  {
   "cell_type": "code",
   "execution_count": 97,
   "metadata": {},
   "outputs": [
    {
     "name": "stdout",
     "output_type": "stream",
     "text": [
      "Username user 1 : Daniel\n",
      "Username user 2 : Aisyah\n"
     ]
    }
   ],
   "source": [
    "print(f\"Username user 1 : {daniel.username}\")\n",
    "print(f\"Username user 2 : {aisyah.username}\")"
   ]
  },
  {
   "cell_type": "code",
   "execution_count": 98,
   "metadata": {},
   "outputs": [
    {
     "data": {
      "text/plain": [
       "{'Membership': ['Platinum', 'Gold', 'Silver'],\n",
       " 'Discount': ['15%', '10%', '8%'],\n",
       " 'Another Benefit': ['Benefit Silver + Gold + Voucher Liburan + Cashback max. 30%',\n",
       "  'Benefit Silver + Voucher Ojek Online ',\n",
       "  'Voucher Makanan']}"
      ]
     },
     "execution_count": 98,
     "metadata": {},
     "output_type": "execute_result"
    }
   ],
   "source": [
    "daniel.membership"
   ]
  },
  {
   "cell_type": "code",
   "execution_count": 99,
   "metadata": {},
   "outputs": [
    {
     "name": "stdout",
     "output_type": "stream",
     "text": [
      "Benefit Membership PacCommerce\n",
      "\n",
      "|  Membership  |  Discount  |                       Another Benefit                       |\n",
      "|--------------|------------|-------------------------------------------------------------|\n",
      "|   Platinum   |    15%     | Benefit Silver + Gold + Voucher Liburan + Cashback max. 30% |\n",
      "|     Gold     |    10%     |            Benefit Silver + Voucher Ojek Online             |\n",
      "|    Silver    |     8%     |                       Voucher Makanan                       |\n"
     ]
    }
   ],
   "source": [
    "daniel.show_benefit()"
   ]
  },
  {
   "cell_type": "code",
   "execution_count": 100,
   "metadata": {},
   "outputs": [
    {
     "name": "stdout",
     "output_type": "stream",
     "text": [
      "Requirements Membership PacCommerce\n",
      "\n",
      "|  Membership  |   Monthly Expense (juta) |   Monthly Income (juta) |\n",
      "|--------------|--------------------------|-------------------------|\n",
      "|   Platinum   |                        8 |                      15 |\n",
      "|     Gold     |                        6 |                      10 |\n",
      "|    Silver    |                        5 |                       7 |\n"
     ]
    }
   ],
   "source": [
    "aisyah.show_requirements()"
   ]
  },
  {
   "cell_type": "code",
   "execution_count": 101,
   "metadata": {},
   "outputs": [
    {
     "name": "stdout",
     "output_type": "stream",
     "text": [
      "Hasil perhitungan Euclidean Distance dari user Daniel adalah {'Platinum': 3.1622776601683795, 'Gold': 3.605551275463989, 'Silver': 6.4031242374328485}\n",
      "Platinum\n"
     ]
    }
   ],
   "source": [
    "daniel.predict_membership(monthly_expense=9,\n",
    "                          monthly_income=12)"
   ]
  },
  {
   "cell_type": "code",
   "execution_count": 102,
   "metadata": {},
   "outputs": [
    {
     "name": "stdout",
     "output_type": "stream",
     "text": [
      "Hasil perhitungan Euclidean Distance dari user Aisyah adalah {'Platinum': 3.605551275463989, 'Gold': 2.0, 'Silver': 5.0990195135927845}\n",
      "Gold\n"
     ]
    }
   ],
   "source": [
    "aisyah.predict_membership(monthly_expense=6,\n",
    "                          monthly_income=12)"
   ]
  },
  {
   "cell_type": "code",
   "execution_count": 103,
   "metadata": {},
   "outputs": [
    {
     "data": {
      "text/plain": [
       "'Platinum'"
      ]
     },
     "execution_count": 103,
     "metadata": {},
     "output_type": "execute_result"
    }
   ],
   "source": [
    "daniel.show_membership()"
   ]
  },
  {
   "cell_type": "code",
   "execution_count": 104,
   "metadata": {},
   "outputs": [
    {
     "data": {
      "text/plain": [
       "'Gold'"
      ]
     },
     "execution_count": 104,
     "metadata": {},
     "output_type": "execute_result"
    }
   ],
   "source": [
    "aisyah.show_membership()"
   ]
  },
  {
   "cell_type": "code",
   "execution_count": 105,
   "metadata": {},
   "outputs": [
    {
     "name": "stdout",
     "output_type": "stream",
     "text": [
      "Final price : 637500.0\n"
     ]
    }
   ],
   "source": [
    "daniel.calculate_price([150_000, 200_000, 400_000])"
   ]
  },
  {
   "cell_type": "code",
   "execution_count": 107,
   "metadata": {},
   "outputs": [
    {
     "name": "stdout",
     "output_type": "stream",
     "text": [
      "Final price : 675000.0\n"
     ]
    }
   ],
   "source": [
    "aisyah.calculate_price([150_000, 200_000, 400_000])"
   ]
  }
 ],
 "metadata": {
  "kernelspec": {
   "display_name": "Python 3",
   "language": "python",
   "name": "python3"
  },
  "language_info": {
   "codemirror_mode": {
    "name": "ipython",
    "version": 3
   },
   "file_extension": ".py",
   "mimetype": "text/x-python",
   "name": "python",
   "nbconvert_exporter": "python",
   "pygments_lexer": "ipython3",
   "version": "3.11.9"
  }
 },
 "nbformat": 4,
 "nbformat_minor": 2
}
